{
 "cells": [
  {
   "cell_type": "code",
   "execution_count": null,
   "metadata": {},
   "outputs": [],
   "source": [
    "from IPython.display import HTML, display\n",
    "import os\n",
    "import datetime\n",
    "import numpy as np\n",
    "import math\n",
    "import pandas as pd\n",
    "from scipy import stats\n",
    "from scipy.stats import ttest_ind, chisquare\n",
    "import numpy as np\n",
    "import seaborn as sns\n",
    "import matplotlib.pyplot as plt\n",
    "import json\n",
    "from math import cos, asin, sqrt\n",
    "from time import time\n",
    "sns.set(color_codes=True)\n",
    "from datetime import datetime as dt\n",
    "\n",
    "# pd.set_option(\"display.max_columns\", 999)\n",
    "pd.set_option(\"display.max_rows\", 300)\n",
    "# pd.set_option('display.max_colwidth', -1)\n",
    "pd.set_option('display.max_seq_items', 999)\n",
    "import plotly.graph_objects as go"
   ]
  },
  {
   "cell_type": "markdown",
   "metadata": {},
   "source": [
    "# Get data\n",
    "\n",
    "1. https://www.kaggle.com/mlg-ulb/creditcardfraud"
   ]
  },
  {
   "cell_type": "code",
   "execution_count": null,
   "metadata": {},
   "outputs": [],
   "source": [
    "df = pd.read_csv('creditcard.csv')"
   ]
  },
  {
   "cell_type": "code",
   "execution_count": null,
   "metadata": {},
   "outputs": [],
   "source": [
    "df"
   ]
  },
  {
   "cell_type": "code",
   "execution_count": null,
   "metadata": {},
   "outputs": [],
   "source": [
    "df.drop('Time', axis=1, inplace=True)"
   ]
  },
  {
   "cell_type": "code",
   "execution_count": null,
   "metadata": {},
   "outputs": [],
   "source": [
    "def describe_dataset(df, target_column):\n",
    "    print(f'Dataset shape: {df.shape}')\n",
    "    print(f'Target column: {target_column}')\n",
    "    print('Distribution of classes:')\n",
    "    print(df[target_column].value_counts(normalize=1, dropna=False))\n",
    "    print('Columns types:')\n",
    "    print(df.dtypes)"
   ]
  },
  {
   "cell_type": "code",
   "execution_count": null,
   "metadata": {},
   "outputs": [],
   "source": [
    "describe_dataset(df, 'Class')"
   ]
  },
  {
   "cell_type": "code",
   "execution_count": null,
   "metadata": {},
   "outputs": [],
   "source": [
    "from sklearn.model_selection import train_test_split\n",
    "df_train, df_test = train_test_split(df, train_size = 0.8)"
   ]
  },
  {
   "cell_type": "code",
   "execution_count": null,
   "metadata": {},
   "outputs": [],
   "source": [
    "df_test['Class'].value_counts()"
   ]
  },
  {
   "cell_type": "code",
   "execution_count": null,
   "metadata": {},
   "outputs": [],
   "source": [
    "def prepare_random_undersampling(df, target_column, random_state=14):\n",
    "    # Class count\n",
    "    count_class_0, count_class_1 = df[target_column].value_counts()\n",
    "\n",
    "    # Divide by class\n",
    "    df_class_0 = df[df[target_column] == 0]\n",
    "    df_class_1 = df[df[target_column] == 1]\n",
    "    \n",
    "    df_class_0_under = df_class_0.sample(count_class_1, random_state=random_state)\n",
    "    df_test_under = pd.concat([df_class_0_under, df_class_1], axis=0)\n",
    "\n",
    "    print('Random under-sampling:')\n",
    "    print(df_test_under[target_column].value_counts())\n",
    "\n",
    "#     df_test_under[target_column].value_counts().plot(kind='bar', title='Count (target)');\n",
    "    return df_test_under"
   ]
  },
  {
   "cell_type": "code",
   "execution_count": null,
   "metadata": {},
   "outputs": [],
   "source": [
    "def prepare_random_oversampling(df, target_column, random_state=15):\n",
    "    # Class count\n",
    "    count_class_0, count_class_1 = df[target_column].value_counts()\n",
    "\n",
    "    # Divide by class\n",
    "    df_class_0 = df[df[target_column] == 0]\n",
    "    df_class_1 = df[df[target_column] == 1]\n",
    "    \n",
    "    df_class_1_over = df_class_1.sample(count_class_0, random_state=random_state, replace=True)\n",
    "    df_test_under = pd.concat([df_class_0, df_class_1_over], axis=0)\n",
    "\n",
    "    print('Random under-sampling:')\n",
    "    print(df_test_under[target_column].value_counts())\n",
    "\n",
    "#     df_test_under[target_column].value_counts().plot(kind='bar', title='Count (target)');\n",
    "    return df_test_under"
   ]
  },
  {
   "cell_type": "code",
   "execution_count": null,
   "metadata": {},
   "outputs": [],
   "source": [
    "target_column = 'Class'\n",
    "params = {'boosting_type': 'gbdt',\n",
    "                'max_depth': 6,\n",
    "                'num_leaves': 30,\n",
    "                'min_data_in_leaf': 50,\n",
    "                'learning_rate': 0.05,\n",
    "                'n_estimators': 1500,\n",
    "                'objective': 'binary',\n",
    "                'random_state': 5,\n",
    "                'metric': 'auc'}"
   ]
  },
  {
   "cell_type": "code",
   "execution_count": null,
   "metadata": {},
   "outputs": [],
   "source": [
    "import lightgbm as lgb\n",
    "import time\n",
    "\n",
    "def train_lightgbm(df, target_column, params):\n",
    "    \n",
    "    X_train, X_test, y_train, y_test = train_test_split(df.drop(target_column, axis=1), df[target_column], train_size=0.8)\n",
    "    lgbtrain = lgb.Dataset(X_train, label=y_train)\n",
    "    lgbtest = lgb.Dataset(X_test, label=y_test)\n",
    "\n",
    "    t0 = time.time()\n",
    "    model = lgb.train(params, lgbtrain, valid_sets=lgbtest, early_stopping_rounds=50, verbose_eval=50)\n",
    "    print(f'Model training time: {round((time.time() - t0) / 60, 2)} min.')\n",
    "\n",
    "    return model"
   ]
  },
  {
   "cell_type": "code",
   "execution_count": null,
   "metadata": {},
   "outputs": [],
   "source": [
    "from sklearn.metrics import roc_auc_score, confusion_matrix\n",
    "\n",
    "threshold = 0.5    \n",
    "    \n",
    "def get_metrics(df_test, target_column, model_lgb):\n",
    "\n",
    "    true = df_test[target_column]\n",
    "    predictions = model_lgb.predict(df_test.drop(target_column, axis=1))\n",
    "    auc = roc_auc_score(true, predictions, average = 'weighted')\n",
    "    print(f'AUC: {auc}')\n",
    "\n",
    "    cm = confusion_matrix(true, predictions > threshold)\n",
    "    print('Confusion matrix:')\n",
    "    display(pd.DataFrame(cm, columns=['pred_neg', 'pred_pos'],\n",
    "                            index=['neg', 'pos']).T)\n",
    "    tn, fp, fn, tp = cm.ravel()\n",
    "\n",
    "    fpr_fallout = round(fp / (fp + tn), 6)\n",
    "    tpr_recall = round(tp / (tp + fn), 6)\n",
    "    ppv_precision = round(tp / (tp + fp), 6)\n",
    "    print(f'True positive rate (recall): {tpr_recall}')\n",
    "    print(f'False positive rate: {fpr_fallout}')\n",
    "    print(f'Precision: {ppv_precision}')\n",
    "    return(auc, fpr_fallout, tpr_recall, ppv_precision)"
   ]
  },
  {
   "cell_type": "code",
   "execution_count": null,
   "metadata": {},
   "outputs": [],
   "source": [
    "df_u = prepare_random_undersampling(df_train, 'Class')\n",
    "model_lgb = train_lightgbm(df_train, 'Class', params)\n",
    "auc, fpr_fallout, tpr_recall, ppv_precision = get_metrics(df_test, 'Class', model_lgb)"
   ]
  },
  {
   "cell_type": "code",
   "execution_count": null,
   "metadata": {},
   "outputs": [],
   "source": [
    "# feature_imp = pd.Series(model.feature_importance(), model.feature_name()).sort_values(ascending=False)"
   ]
  },
  {
   "cell_type": "code",
   "execution_count": null,
   "metadata": {},
   "outputs": [],
   "source": [
    "df_v = prepare_random_oversampling(df, target_column, random_state=15)\n",
    "model_lgb = train_lightgbm(df_train, 'Class', params)\n",
    "auc, fpr_fallout, tpr_recall, ppv_precision = get_metrics(df_test, 'Class', model_lgb)"
   ]
  },
  {
   "cell_type": "code",
   "execution_count": null,
   "metadata": {},
   "outputs": [],
   "source": []
  }
 ],
 "metadata": {
  "hide_input": false,
  "kernelspec": {
   "display_name": "Python 3",
   "language": "python",
   "name": "python3"
  },
  "language_info": {
   "codemirror_mode": {
    "name": "ipython",
    "version": 3
   },
   "file_extension": ".py",
   "mimetype": "text/x-python",
   "name": "python",
   "nbconvert_exporter": "python",
   "pygments_lexer": "ipython3",
   "version": "3.7.1"
  },
  "varInspector": {
   "cols": {
    "lenName": 16,
    "lenType": 16,
    "lenVar": 40
   },
   "kernels_config": {
    "python": {
     "delete_cmd_postfix": "",
     "delete_cmd_prefix": "del ",
     "library": "var_list.py",
     "varRefreshCmd": "print(var_dic_list())"
    },
    "r": {
     "delete_cmd_postfix": ") ",
     "delete_cmd_prefix": "rm(",
     "library": "var_list.r",
     "varRefreshCmd": "cat(var_dic_list()) "
    }
   },
   "types_to_exclude": [
    "module",
    "function",
    "builtin_function_or_method",
    "instance",
    "_Feature"
   ],
   "window_display": false
  }
 },
 "nbformat": 4,
 "nbformat_minor": 2
}
